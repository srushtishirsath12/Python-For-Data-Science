{
 "cells": [
  {
   "cell_type": "code",
   "execution_count": 3,
   "id": "884aab9e-0852-41ae-8452-06a9bb84ca1b",
   "metadata": {},
   "outputs": [],
   "source": [
    "import pandas as pd\n",
    "import numpy as np"
   ]
  },
  {
   "cell_type": "markdown",
   "id": "70a6ffa4-f272-4ee3-b0c7-eb8a60d37fbe",
   "metadata": {},
   "source": [
    "#### pandas\n",
    "##### Panal - Dataframe - Series\n",
    "* panel - data more than 2 dimenssion\n",
    "* dataframe - tablelike structure , 2d data , matrix\n",
    "* series - array like structure, 1d data\n",
    "These are the three main data structure in pandas-\n",
    "\n",
    "pandas support numeric and object datatypes\n",
    "numeri contains - int, int64, float\n",
    "object - String, Character, Alphanumeric Character, Symbol, Bits and Bytes\n",
    "\n",
    "Pandas is one of the most used data analytical library/module in python.\n",
    "pandas can be work  with files ,texts, databases, websites, and clouds.\n"
   ]
  },
  {
   "cell_type": "code",
   "execution_count": 4,
   "id": "542419e4-072c-4250-83d0-861243937e38",
   "metadata": {},
   "outputs": [
    {
     "data": {
      "text/plain": [
       "0    Sun\n",
       "1    Mon\n",
       "2    Tue\n",
       "3    Wed\n",
       "4    Thr\n",
       "5    Fri\n",
       "6    Sat\n",
       "Name: weekdays, dtype: object"
      ]
     },
     "execution_count": 4,
     "metadata": {},
     "output_type": "execute_result"
    }
   ],
   "source": [
    "arr = np.array([\"Sun\",\"Mon\",\"Tue\",\"Wed\",\"Thr\",\"Fri\",\"Sat\"])\n",
    "# How to create pandas series with name\n",
    "s1=pd.Series(arr,name=\"weekdays\")\n",
    "s1"
   ]
  },
  {
   "cell_type": "code",
   "execution_count": 5,
   "id": "9d144ef3-d514-4531-9667-bc1da02f1112",
   "metadata": {},
   "outputs": [
    {
     "data": {
      "text/plain": [
       "'weekdays'"
      ]
     },
     "execution_count": 5,
     "metadata": {},
     "output_type": "execute_result"
    }
   ],
   "source": [
    "s1.name"
   ]
  },
  {
   "cell_type": "code",
   "execution_count": 6,
   "id": "ecde7fc0-f251-4df8-8501-fbf84df3eebc",
   "metadata": {},
   "outputs": [
    {
     "data": {
      "text/plain": [
       "0    2\n",
       "1    5\n",
       "2    7\n",
       "3    4\n",
       "Name: number list, dtype: int64"
      ]
     },
     "execution_count": 6,
     "metadata": {},
     "output_type": "execute_result"
    }
   ],
   "source": [
    "s2=pd.Series([2,5,7,4],name=\"number list\")\n",
    "s2"
   ]
  },
  {
   "cell_type": "code",
   "execution_count": 7,
   "id": "02b6ceb5-cf4b-4ea2-8611-64ed5e945a21",
   "metadata": {},
   "outputs": [
    {
     "data": {
      "text/plain": [
       "0    1\n",
       "1    2\n",
       "2    3\n",
       "3    4\n",
       "4    5\n",
       "dtype: int64"
      ]
     },
     "execution_count": 7,
     "metadata": {},
     "output_type": "execute_result"
    }
   ],
   "source": [
    "s3=pd.Series((1,2,3,4,5))\n",
    "s3"
   ]
  },
  {
   "cell_type": "code",
   "execution_count": 8,
   "id": "493eb203-7a24-42f7-a5ac-543199a55fce",
   "metadata": {},
   "outputs": [
    {
     "data": {
      "text/plain": [
       "dtype('int64')"
      ]
     },
     "execution_count": 8,
     "metadata": {},
     "output_type": "execute_result"
    }
   ],
   "source": [
    "s3.dtype"
   ]
  },
  {
   "cell_type": "code",
   "execution_count": 9,
   "id": "adcbd054-46dd-464f-bd5b-715609744918",
   "metadata": {},
   "outputs": [
    {
     "data": {
      "text/plain": [
       "3.0"
      ]
     },
     "execution_count": 9,
     "metadata": {},
     "output_type": "execute_result"
    }
   ],
   "source": [
    "s3.mean()"
   ]
  },
  {
   "cell_type": "code",
   "execution_count": 10,
   "id": "815f359c-3dab-4c6e-9cf0-cdcffda99232",
   "metadata": {},
   "outputs": [
    {
     "data": {
      "text/plain": [
       "4.5"
      ]
     },
     "execution_count": 10,
     "metadata": {},
     "output_type": "execute_result"
    }
   ],
   "source": [
    "s2.mean()"
   ]
  },
  {
   "cell_type": "code",
   "execution_count": 11,
   "id": "9dce39d2-ac6a-4e67-b962-4c30b9c7af76",
   "metadata": {},
   "outputs": [
    {
     "data": {
      "text/plain": [
       "2.0816659994661326"
      ]
     },
     "execution_count": 11,
     "metadata": {},
     "output_type": "execute_result"
    }
   ],
   "source": [
    "s2.std()"
   ]
  },
  {
   "cell_type": "code",
   "execution_count": 12,
   "id": "1d8d55b8-a1e3-48d8-a726-f2672d102204",
   "metadata": {},
   "outputs": [
    {
     "data": {
      "text/plain": [
       "1.5811388300841898"
      ]
     },
     "execution_count": 12,
     "metadata": {},
     "output_type": "execute_result"
    }
   ],
   "source": [
    "s3.std()"
   ]
  },
  {
   "cell_type": "code",
   "execution_count": 13,
   "id": "00a83621-8170-44de-8076-0e1a66d2a46b",
   "metadata": {},
   "outputs": [],
   "source": [
    "d={\n",
    "    \"Std_Names\":[\"Chandu\",\"Nandu\",\"Bandu\"] , \"marks\":[67,59,46]\n",
    "}\n"
   ]
  },
  {
   "cell_type": "code",
   "execution_count": 14,
   "id": "b5a5fbba-d0fa-431d-86a4-1ecfc577e9f7",
   "metadata": {},
   "outputs": [
    {
     "data": {
      "text/html": [
       "<div>\n",
       "<style scoped>\n",
       "    .dataframe tbody tr th:only-of-type {\n",
       "        vertical-align: middle;\n",
       "    }\n",
       "\n",
       "    .dataframe tbody tr th {\n",
       "        vertical-align: top;\n",
       "    }\n",
       "\n",
       "    .dataframe thead th {\n",
       "        text-align: right;\n",
       "    }\n",
       "</style>\n",
       "<table border=\"1\" class=\"dataframe\">\n",
       "  <thead>\n",
       "    <tr style=\"text-align: right;\">\n",
       "      <th></th>\n",
       "      <th>Std_Names</th>\n",
       "      <th>marks</th>\n",
       "    </tr>\n",
       "  </thead>\n",
       "  <tbody>\n",
       "    <tr>\n",
       "      <th>0</th>\n",
       "      <td>Chandu</td>\n",
       "      <td>67</td>\n",
       "    </tr>\n",
       "    <tr>\n",
       "      <th>1</th>\n",
       "      <td>Nandu</td>\n",
       "      <td>59</td>\n",
       "    </tr>\n",
       "    <tr>\n",
       "      <th>2</th>\n",
       "      <td>Bandu</td>\n",
       "      <td>46</td>\n",
       "    </tr>\n",
       "  </tbody>\n",
       "</table>\n",
       "</div>"
      ],
      "text/plain": [
       "  Std_Names  marks\n",
       "0    Chandu     67\n",
       "1     Nandu     59\n",
       "2     Bandu     46"
      ]
     },
     "execution_count": 14,
     "metadata": {},
     "output_type": "execute_result"
    }
   ],
   "source": [
    "df = pd.DataFrame(d)\n",
    "df"
   ]
  },
  {
   "cell_type": "code",
   "execution_count": null,
   "id": "e24bd02c-5180-48d9-80bd-1df38268d7f4",
   "metadata": {},
   "outputs": [],
   "source": [
    "df5=pd.read_csv(\" \")\n",
    "                "
   ]
  }
 ],
 "metadata": {
  "kernelspec": {
   "display_name": "Python 3 (ipykernel)",
   "language": "python",
   "name": "python3"
  },
  "language_info": {
   "codemirror_mode": {
    "name": "ipython",
    "version": 3
   },
   "file_extension": ".py",
   "mimetype": "text/x-python",
   "name": "python",
   "nbconvert_exporter": "python",
   "pygments_lexer": "ipython3",
   "version": "3.12.0"
  }
 },
 "nbformat": 4,
 "nbformat_minor": 5
}
